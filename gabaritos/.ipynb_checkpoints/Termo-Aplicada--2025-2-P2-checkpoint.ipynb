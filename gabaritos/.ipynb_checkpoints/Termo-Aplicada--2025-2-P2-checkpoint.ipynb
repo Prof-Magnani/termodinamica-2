{
 "cells": [
  {
   "cell_type": "markdown",
   "id": "11b1a04a-e31c-4636-a9fc-9c54b19e6ece",
   "metadata": {},
   "source": [
    "\n",
    "# **UFPE — CTG — Engenharia Mecânica**  \n",
    "## **Termodinâmica Aplicada — 2ª Avaliação (13/08/2025)**  \n",
    "**Professor:** Fábio Magnani"
   ]
  },
  {
   "cell_type": "code",
   "execution_count": 1,
   "id": "21d4ec92",
   "metadata": {},
   "outputs": [],
   "source": [
    "\n",
    "# Utilities (optional)\n",
    "# - Tries to import CoolProp for water and R134a properties.\n",
    "# - Helper functions for turbine/compressor isentropic efficiency.\n",
    "try:\n",
    "    from CoolProp.CoolProp import PropsSI\n",
    "    HAS_COOLPROP = True\n",
    "except Exception as e:\n",
    "    HAS_COOLPROP = False\n",
    "    print(\"CoolProp not found. Use tables or fill values manually. Error:\", e)\n",
    "\n",
    "def turbine_h_out(h_in, s_in, p_out, eta_is=1.0, fluid='Water'):\n",
    "    # Turbine: eta_t = (h_in - h_out_real)/(h_in - h_out_is)\n",
    "    if not HAS_COOLPROP:\n",
    "        raise RuntimeError(\"CoolProp not available.\")\n",
    "    h2s = PropsSI('H','S',s_in,'P',p_out,fluid)\n",
    "    h2  = h_in - eta_is*(h_in - h2s)\n",
    "    return h2, {'h2s': h2s, 'h2': h2}\n",
    "\n",
    "def compressor_h_out(h_in, s_in, p_out, eta_is=1.0, fluid='Air'):\n",
    "    # Compressor: eta_c = (h_out_is - h_in)/(h_out_real - h_in)\n",
    "    if not HAS_COOLPROP:\n",
    "        raise RuntimeError(\"CoolProp not available.\")\n",
    "    h2s = PropsSI('H','S',s_in,'P',p_out,fluid)\n",
    "    if eta_is <= 0:\n",
    "        raise ValueError(\"eta_is must be > 0\")\n",
    "    h2  = h_in + (h2s - h_in)/eta_is\n",
    "    return h2, {'h2s': h2s, 'h2': h2}\n",
    "\n",
    "def T2_isentropic_air(T1, r_p, gamma=1.4):\n",
    "    # Ideal-gas (air-standard): T2s = T1 * r_p^((gamma-1)/gamma)\n",
    "    return T1 * (r_p**((gamma-1.0)/gamma))\n",
    "\n",
    "def T2_with_eta_comp_air(T1, r_p, eta_c=1.0, gamma=1.4):\n",
    "    # eta_c = (T2s - T1)/(T2 - T1)  =>  T2 = T1 + (T2s - T1)/eta_c\n",
    "    T2s = T2_isentropic_air(T1, r_p, gamma=gamma)\n",
    "    return T1 + (T2s - T1)/eta_c, T2s\n"
   ]
  },
  {
   "cell_type": "markdown",
   "id": "f791e3a5-e6c8-481c-ab24-d18454c5e0d9",
   "metadata": {},
   "source": [
    "\n",
    "## 1) Ciclo Rankine com Reaquecimento — **4,0 pontos**\n",
    "\n",
    "**Enunciado:**  \n",
    "1ª Questão) Considere um Ciclo Rankine com Reaquecimento, operando nas pressões 10, 700 e 6000 kPa, com todas as máquinas de fluxo (i.g., bombas, turbinas) com eficiência isentrópica de 80%. Nas duas saídas da caldeira, a temperatura é 360 °C. Calcule o título na saída da turbina de alta pressão. (4,0 pontos)\n",
    "\n",
    "### Hipóteses (preencha e justifique)\n",
    "- Regime permanente\n",
    "- Caldeira e condensador isobáricos\n",
    "- Bomba e turbinas adiabáticas\n",
    "- Caldeira fornece vapor **superaquecido** a 6 MPa e 400 °C.\n",
    "- Reaquecimento eleva novamente a **400 °C** a 0,7 MPa.\n",
    "- Desprezar perdas de pressão em trocadores/linhas.\n",
    "- η_turbinas = η_bombas = **0,80** (definição de eficiência isentrópica).\n",
    "- Condensador a **10 kPa**.\n",
    "- Outras hipóteses que você julgar pertinentes: _____\n"
   ]
  },
  {
   "cell_type": "code",
   "execution_count": 14,
   "id": "1dd5f05d",
   "metadata": {},
   "outputs": [
    {
     "name": "stdout",
     "output_type": "stream",
     "text": [
      "Estado 1 (6 MPa, 360 C): h1=3071.99 kJ/kg, s1=6.380 kJ/(kg.K)\n",
      "Estado 2 (0.7 MPa, apos turbina de alta): h2=2710.11 kJ/kg  -> fase: bifásica\n",
      "Titulo na saida da turbina de alta: x = 0.9745\n"
     ]
    }
   ],
   "source": [
    "\n",
    "# === Q1: Estado após a turbina de alta (6 MPa -> 0,8 MPa) ===\n",
    "eta_t = 0.80\n",
    "p_hi   = 6_000_000.0       # Pa (6 MPa)\n",
    "p_reh  =   700_000.0       # Pa (0.8 MPa)\n",
    "T_boiler_out  = 360.0 + 273.15  # K\n",
    "\n",
    "if HAS_COOLPROP:\n",
    "    fluid = 'Water'\n",
    "    # Estado 1: entrada turbina de alta\n",
    "    h1 = PropsSI('H','P',p_hi,'T',T_boiler_out,fluid)\n",
    "    s1 = PropsSI('S','P',p_hi,'T',T_boiler_out,fluid)\n",
    "    # Expansão 1 -> 2 (turbina de alta): 6 MPa -> 0.8 MPa\n",
    "    h2, aux = turbine_h_out(h1, s1, p_reh, eta_is=eta_t, fluid=fluid)\n",
    "\n",
    "    # Verificar fase em (p=0.8 MPa, h=h2)\n",
    "    Tsat_reh = PropsSI('T','P',p_reh,'Q',0,fluid)\n",
    "    hf = PropsSI('H','P',p_reh,'Q',0,fluid)\n",
    "    hg = PropsSI('H','P',p_reh,'Q',1,fluid)\n",
    "    if hf <= h2 <= hg:\n",
    "        x = (h2 - hf)/(hg - hf)\n",
    "        fase = \"bifásica\"\n",
    "    else:\n",
    "        x = None\n",
    "        fase = \"liquido comprimido\" if h2 < hf else \"vapor superaquecido\"\n",
    "\n",
    "    print(f\"Estado 1 (6 MPa, 360 C): h1={h1/1000:.2f} kJ/kg, s1={s1/1000:.3f} kJ/(kg.K)\")\n",
    "    print(f\"Estado 2 (0.7 MPa, apos turbina de alta): h2={h2/1000:.2f} kJ/kg  -> fase: {fase}\")\n",
    "    if x is not None:\n",
    "        print(f\"Titulo na saida da turbina de alta: x = {x:.4f}\")\n",
    "    else:\n",
    "        print(\"Titulo nao aplicavel (estado nao esta na cupula de saturacao).\")\n",
    "else:\n",
    "    print(\"CoolProp indisponivel. Use tabelas de vapor:\")\n",
    "    print(\"1) Obter h1, s1 em (6 MPa, 360 C).\")\n",
    "    print(\"2) Em p=0.8 MPa, encontrar h2s com s=s1 (superaquecido).\")\n",
    "    print(\"3) h2 = h1 - eta_t*(h1 - h2s).\")\n",
    "    print(\"4) Verificar fase em p=0.8 MPa e calcular x se bifasico.\")\n"
   ]
  },
  {
   "cell_type": "markdown",
   "id": "16b9ae19-cd87-4858-9213-cd873bd45e2f",
   "metadata": {},
   "source": [
    "\n",
    "## 2) Ciclo de Refrigeração por Compressão a Vapor (R134a) — **3,0 pontos**\n",
    "\n",
    "**Enunciado:**  \n",
    "2ª Questão) O dispostivo de expansão de um Ciclo de Refrigeração por Compressão a Vapor (R134a) opera entre as temperaturas 40 °C e 5 °C. Qual o COP (i.e. coeficiente de perfomance, coeficiente de desempenho) do ciclo?  (3,0 pontos)\n",
    "\n",
    "### Hipóteses (preencha e justifique)\n",
    "- Regime permanente\n",
    "- Compressor adiabático e isentrópico\n",
    "- **Ciclo ideal** (compressão isentrópica), **sem superaquecimento** na saída do evaporador e **sem sub-resfriamento** na saída do condensador.\n",
    "- Evaporação a **4 °C (saturado)** e condensação a **40 °C (saturado)**.\n",
    "- Válvula de expansão **isentálpica**, sem variação de energia cinética e potencial.\n",
    "- Desprezar perdas de pressão em trocadores/linhas.  \n",
    "- Outras hipóteses que você julgar pertinentes: _____\n"
   ]
  },
  {
   "cell_type": "code",
   "execution_count": 16,
   "id": "10269c7a",
   "metadata": {},
   "outputs": [
    {
     "name": "stdout",
     "output_type": "stream",
     "text": [
      "p_evap = 337.7 kPa, p_cond = 1016.6 kPa\n",
      "h1=400.92 kJ/kg, h2=423.81 kJ/kg, h3=256.41 kJ/kg, h4=256.41 kJ/kg\n",
      "qL=144.51 kJ/kg, wC=22.89 kJ/kg,  COP=6.31\n"
     ]
    }
   ],
   "source": [
    "\n",
    "# === Q2: COP de um ciclo ideal de compressao de vapor com R134a ===\n",
    "Te = 4.0 + 273.15     # K\n",
    "Tc = 40.0 + 273.15    # K\n",
    "fluid = 'R134a'\n",
    "\n",
    "if HAS_COOLPROP:\n",
    "    # 1: vapor saturado a Te\n",
    "    p1 = PropsSI('P','T',Te,'Q',1,fluid)\n",
    "    h1 = PropsSI('H','T',Te,'Q',1,fluid)\n",
    "    s1 = PropsSI('S','T',Te,'Q',1,fluid)\n",
    "    # 3: liquido saturado a Tc\n",
    "    h3 = PropsSI('H','T',Tc,'Q',0,fluid)\n",
    "    p3 = PropsSI('P','T',Tc,'Q',0,fluid)\n",
    "    # 4: valvula isentalpica\n",
    "    h4 = h3\n",
    "    # 2s: compressao isentropica ate pressao de saturacao a Tc\n",
    "    h2s = PropsSI('H','S',s1,'P',p3,fluid)\n",
    "    h2  = h2s  # compressor ideal base\n",
    "     \n",
    "\n",
    "    qL = h1 - h4\n",
    "    wC = h2 - h1\n",
    "    COP = qL / wC\n",
    "\n",
    "    print(f\"p_evap = {p1/1000:.1f} kPa, p_cond = {p2/1000:.1f} kPa\")\n",
    "    print(f\"h1={h1/1000:.2f} kJ/kg, h2={h2/1000:.2f} kJ/kg, h3={h3/1000:.2f} kJ/kg, h4={h4/1000:.2f} kJ/kg\")\n",
    "    print(f\"qL={qL/1000:.2f} kJ/kg, wC={wC/1000:.2f} kJ/kg,  COP={COP:.2f}\")\n",
    "else:\n",
    "    print(\"CoolProp indisponivel. Passos com tabelas do R134a:\")\n",
    "    print(\"1) h1,s1 em Te=4 C (vapor sat.)  2) h2s por s=s1 a p_cond (40 C)\")\n",
    "    print(\"3) h3 em Tc=40 C (liquido sat.)  4) h4=h3  -> COP=(h1-h4)/(h2-h1)\")\n"
   ]
  },
  {
   "cell_type": "markdown",
   "id": "db2f5f5a-f4cf-4756-af83-64438dc752d2",
   "metadata": {},
   "source": [
    "\n",
    "## 3) Ciclo Brayton (motor de avião) — **3,0 pontos**\n",
    "\n",
    "**Enunciado:**  \n",
    "3ª Questão) O motor de um avião (Ciclo Brayton), aspira ar a 25 °C e 100 kPa e tem uma relação de pressão de 10:1. Qual a temperatura na entrada da câmara de combustão? (3,0 pontos)  \n",
    "\n",
    "### Hipóteses (preencha e justifique)\n",
    "- **Ar-padrão** com propriedades constantes (γ = 1,4; c_p = 1,004 kJ/(kg·K)).\n",
    "- Regime permanente\n",
    "- **Compressão isentrópica** (caso base). Alternativa: adote **η_c** específico e calcule T₂ real.\n",
    "- Desprezar perdas no duto entre compressor e câmara.\n",
    "- Outras hipóteses que você julgar pertinentes: _____\n"
   ]
  },
  {
   "cell_type": "code",
   "execution_count": 17,
   "id": "6103b7b3",
   "metadata": {},
   "outputs": [
    {
     "name": "stdout",
     "output_type": "stream",
     "text": [
      "T1 = 298.15 K  (25 C)\n",
      "r_p = 10.00,  gamma = 1.40\n",
      "T2s (isentropico) = 575.64 K\n",
      "Assumindo eta_c = 1.00  =>  T2 = 575.64 K (entrada da camara de combustao)\n"
     ]
    }
   ],
   "source": [
    "\n",
    "# === Q3: Temperatura na entrada da camara (saida do compressor) ===\n",
    "T1 = 25.0 + 273.15   # K\n",
    "p1 = 100_000.0       # Pa\n",
    "r_p = 10.0           # p2/p1\n",
    "gamma = 1.4\n",
    "\n",
    "# Caso base: compressor isentropico\n",
    "T2s = T1 * (r_p ** ((gamma - 1.0)/gamma))\n",
    "\n",
    "# Se quiser considerar eta_c != 1:\n",
    "eta_c = 1.0   # edite para, por exemplo, 0.85\n",
    "T2 = T1 + (T2s - T1)/eta_c\n",
    "\n",
    "print(f\"T1 = {T1:.2f} K  (25 C)\")\n",
    "print(f\"r_p = {r_p:.2f},  gamma = {gamma:.2f}\")\n",
    "print(f\"T2s (isentropico) = {T2s:.2f} K\")\n",
    "print(f\"Assumindo eta_c = {eta_c:.2f}  =>  T2 = {T2:.2f} K (entrada da camara de combustao)\")\n"
   ]
  },
  {
   "cell_type": "code",
   "execution_count": null,
   "id": "5c51a0fd-f43c-4107-b8d5-8ed41a4cc0c7",
   "metadata": {},
   "outputs": [],
   "source": []
  }
 ],
 "metadata": {
  "kernelspec": {
   "display_name": "Python [conda env:base] *",
   "language": "python",
   "name": "conda-base-py"
  },
  "language_info": {
   "codemirror_mode": {
    "name": "ipython",
    "version": 3
   },
   "file_extension": ".py",
   "mimetype": "text/x-python",
   "name": "python",
   "nbconvert_exporter": "python",
   "pygments_lexer": "ipython3",
   "version": "3.13.5"
  }
 },
 "nbformat": 4,
 "nbformat_minor": 5
}
